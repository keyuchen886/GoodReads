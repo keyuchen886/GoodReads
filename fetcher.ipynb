{
 "cells": [
  {
   "cell_type": "code",
   "execution_count": 1,
   "metadata": {},
   "outputs": [],
   "source": [
    "import requests\n",
    "from bs4 import BeautifulSoup"
   ]
  },
  {
   "cell_type": "code",
   "execution_count": 2,
   "metadata": {},
   "outputs": [],
   "source": [
    "def fetch_comments(url, session, result=None):\n",
    "    '''this function will fetch text comments'''\n",
    "    if result is None:\n",
    "        result = []\n",
    "    \n",
    "    try:\n",
    "        page = session.get(url)\n",
    "        if page.ok != True:\n",
    "            print('cant get page')\n",
    "            return result\n",
    "        else:\n",
    "            soup = BeautifulSoup(page.content, 'html.parser')\n",
    "            for tag in soup.find_all('p',attrs = {'class':\"comment-content\"}):\n",
    "                result.append(tag.text)\n",
    "            return(result)\n",
    "    except:\n",
    "        return []\n",
    "            "
   ]
  },
  {
   "cell_type": "code",
   "execution_count": 3,
   "metadata": {},
   "outputs": [],
   "source": [
    "def read_page(url, session, result=None):\n",
    "    '''this is a function to read page which has lists of contents'''\n",
    "    if result is None:\n",
    "        result = [] \n",
    "    #so for each book, we will return its score, number of scoers, and a page link to \n",
    "    try:\n",
    "        page = session.get(url)\n",
    "        if page.ok != True:\n",
    "            print('cant get page')\n",
    "            return result\n",
    "        else:\n",
    "            soup=BeautifulSoup(page.content, 'html.parser')\n",
    "            for tag in soup.find_all('div', attrs = {'class':\"info\"}):\n",
    "                temp={}\n",
    "                temp['name'] = tag.find('a')['title']\n",
    "                temp['link'] = tag.find('a')['href']\n",
    "                temp['score'] = tag.find('span', attrs = {'class':\"rating_nums\"}).text\n",
    "                result.append(temp)\n",
    "            return(result)\n",
    "    except:\n",
    "        return []\n"
   ]
  },
  {
   "cell_type": "code",
   "execution_count": 4,
   "metadata": {},
   "outputs": [
    {
     "name": "stdout",
     "output_type": "stream",
     "text": [
      "[]\n"
     ]
    }
   ],
   "source": [
    "#------------------------\n",
    "#         Main\n",
    "#-------------------------\n",
    "\n",
    "num_page = 5\n",
    "num_comment_page = 2\n",
    "\n",
    "start_host_url = \"https://book.douban.com/tag/%E5%B0%8F%E8%AF%B4?start={start}&type=T\"\n",
    "\n",
    "\n",
    "session = requests.Session()\n",
    "session.headers.update({'User-Agent': 'Custom user agent1'})\n",
    "\n",
    "books = []\n",
    "\n",
    "\n",
    "for i in range(0,num_page*20,20):\n",
    "    host_url = start_host_url.format(start=i)\n",
    "    books = read_page(host_url, session, books)\n",
    "\n",
    "\n",
    "print(books)\n",
    "\n",
    "\n",
    "for i in books:\n",
    "    comment_url_start = i['link']+\"comments/hot?p={page}\"\n",
    "    i['comments'] = []\n",
    "    \n",
    "    for page_index in range(1,num_comment_page+1):\n",
    "        \n",
    "        comment_url = comment_url_start.format(page=page_index)\n",
    "        \n",
    "        i['comments'] = fetch_comments(comment_url, session, i['comments'])\n",
    "    \n",
    "    \n",
    "    \n",
    "\n",
    "\n"
   ]
  },
  {
   "cell_type": "code",
   "execution_count": null,
   "metadata": {},
   "outputs": [],
   "source": []
  },
  {
   "cell_type": "code",
   "execution_count": null,
   "metadata": {},
   "outputs": [],
   "source": []
  }
 ],
 "metadata": {
  "kernelspec": {
   "display_name": "Python 3",
   "language": "python",
   "name": "python3"
  },
  "language_info": {
   "codemirror_mode": {
    "name": "ipython",
    "version": 3
   },
   "file_extension": ".py",
   "mimetype": "text/x-python",
   "name": "python",
   "nbconvert_exporter": "python",
   "pygments_lexer": "ipython3",
   "version": "3.7.6"
  }
 },
 "nbformat": 4,
 "nbformat_minor": 4
}
