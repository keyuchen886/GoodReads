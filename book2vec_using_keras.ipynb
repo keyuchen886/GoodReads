{
 "cells": [
  {
   "cell_type": "markdown",
   "metadata": {},
   "source": [
    "# Process Data"
   ]
  },
  {
   "cell_type": "code",
   "execution_count": 1,
   "metadata": {},
   "outputs": [],
   "source": [
    "import json\n",
    "import matplotlib.pyplot as plt\n",
    "import numpy as np\n",
    "import random"
   ]
  },
  {
   "cell_type": "code",
   "execution_count": 2,
   "metadata": {},
   "outputs": [],
   "source": [
    "from collections import Counter, defaultdict #defaultdict provides value of nonexist key"
   ]
  },
  {
   "cell_type": "code",
   "execution_count": 3,
   "metadata": {},
   "outputs": [],
   "source": [
    "REVIEW_DIR = \".\\data\\goodreads_reviews_comics_graphic.json\"\n",
    "BOOK_DIR = \".\\data\\goodreads_books_comics_graphic.json\"\n",
    "INTER_DIR = \".\\data\\goodreads_interactions_comics_graphic.json\""
   ]
  },
  {
   "cell_type": "code",
   "execution_count": 4,
   "metadata": {},
   "outputs": [],
   "source": [
    "def process_review( record , table ):\n",
    "    \n",
    "    if record['rating']==0:\n",
    "        #do not perform any operation\n",
    "        return table\n",
    "    \n",
    "    \n",
    "    user_id = record['user_id']\n",
    "    book_id = record['book_id']\n",
    "    \n",
    "    \n",
    "    \n",
    "    if not book_id in table['books']:\n",
    "        table['books'].add(book_id)\n",
    "        #let table['books'] be a set\n",
    "    if not user_id in table.keys():  #check if this user has registered in our dataset\n",
    "        table[user_id] = set()\n",
    "\n",
    "    table[user_id].add(book_id) #register this book\n",
    "    return table"
   ]
  },
  {
   "cell_type": "code",
   "execution_count": 5,
   "metadata": {},
   "outputs": [],
   "source": [
    "num_records = 529532  #there are 529532 record in total\n",
    "index = 0 \n",
    "\n",
    "data = {'books':set()}\n",
    "\n",
    "#----------------------------\n",
    "#     run main\n",
    "#----------------------------\n",
    "\n",
    "with open(REVIEW_DIR) as fie:\n",
    "    for review in fie:\n",
    "        \n",
    "        if index > num_records:\n",
    "            fie.close()\n",
    "            break\n",
    "            \n",
    "        \n",
    "            \n",
    "        record = json.loads(review)  #load json as a dictionary\n",
    "        data = process_review(record, data)\n",
    "        \n",
    "        #print(i)\n",
    "        index+=1\n",
    "    \n",
    "    \n",
    "    \n",
    "    fie.close()"
   ]
  },
  {
   "cell_type": "code",
   "execution_count": 6,
   "metadata": {},
   "outputs": [],
   "source": [
    "#we then remove those user who only rates one book.\n",
    "data = [v for k,v in data.items() if len(v) > 1 ]\n",
    "data.pop(0) #also remove the first element, which is a set of all books\n",
    "# then compute how many books are in the dataset\n",
    "books = set()\n",
    "for v in data:\n",
    "    books = books.union(v)\n",
    "books = list(books)"
   ]
  },
  {
   "cell_type": "code",
   "execution_count": 7,
   "metadata": {},
   "outputs": [],
   "source": [
    "look_up = {books[i]:i for i in range(len(books))  }  \n",
    "#this is a mapping dictionary that map book id to a unique id\n",
    "book_code = {i:books[i] for i in range(len(books))}\n",
    "#this is a book code dictionary that map id to book id back"
   ]
  },
  {
   "cell_type": "code",
   "execution_count": 8,
   "metadata": {},
   "outputs": [],
   "source": [
    "data = [list(i) for i in data] #change set to list\n",
    "data = [  [look_up[j] for j in i]  for i in data] #change all raw bookid to the id in look up table"
   ]
  },
  {
   "cell_type": "code",
   "execution_count": 32,
   "metadata": {},
   "outputs": [
    {
     "data": {
      "text/plain": [
       "86276"
      ]
     },
     "execution_count": 32,
     "metadata": {},
     "output_type": "execute_result"
    }
   ],
   "source": [
    "len(books)"
   ]
  },
  {
   "cell_type": "markdown",
   "metadata": {},
   "source": [
    "# Generate training samples"
   ]
  },
  {
   "cell_type": "code",
   "execution_count": 11,
   "metadata": {},
   "outputs": [],
   "source": [
    "train_x = []\n",
    "train_y = []\n",
    "\n",
    "for i in range(len(data)):\n",
    "    for j in range(len(data[i])):\n",
    "        train_x.append( data[i][j] )\n",
    "        temp = data[i][:j]+data[i][j+1:]\n",
    "        train_y.append(temp)"
   ]
  },
  {
   "cell_type": "code",
   "execution_count": 38,
   "metadata": {},
   "outputs": [
    {
     "data": {
      "text/plain": [
       "86276"
      ]
     },
     "execution_count": 38,
     "metadata": {},
     "output_type": "execute_result"
    }
   ],
   "source": [
    "len(books)"
   ]
  },
  {
   "cell_type": "markdown",
   "metadata": {},
   "source": [
    "# Now we prepare a keras data generator\n",
    "\n",
    "This is a key part because if we save all training x and y fully, we will have 2*num_samples*num_classes values to save however, we can use a generator to output each of them safely."
   ]
  },
  {
   "cell_type": "code",
   "execution_count": 14,
   "metadata": {},
   "outputs": [],
   "source": [
    "import numpy as np\n",
    "import tensorflow.keras as keras"
   ]
  },
  {
   "cell_type": "code",
   "execution_count": 39,
   "metadata": {},
   "outputs": [],
   "source": [
    "class DataGenerator(keras.utils.Sequence):\n",
    "    'Generates data for Keras'\n",
    "    def __init__(self, num_samples, n_classes, train_x, train_y, batch_size=32, dim=1, shuffle=True):\n",
    "        'Initialization'\n",
    "      \n",
    "        self.dim = dim #specify the input dimension\n",
    "        self.batch_size = batch_size  #the batch size\n",
    "        self.num_samples = num_samples  #how many ids are there in total\n",
    "        \n",
    "        self.n_classes = n_classes\n",
    "        self.shuffle = shuffle\n",
    "        self.on_epoch_end() #then call this method to kinda initialize it\n",
    "        \n",
    "        self.train_x = train_x\n",
    "        self.train_y = train_y\n",
    "        \n",
    "    def on_epoch_end(self):\n",
    "        'Updates indexes after each epoch'\n",
    "        self.indexes = np.arange( self.num_samples )\n",
    "        if self.shuffle == True:\n",
    "            np.random.shuffle(self.indexes)\n",
    "            \n",
    "    def __len__(self):\n",
    "        'Denotes the number of batches per epoch'\n",
    "        return int(np.floor( self.num_samples / self.batch_size))\n",
    "    #---------------------------------------\n",
    "    #    now generate data samples\n",
    "    #---------------------------------------\n",
    "\n",
    "    def __getitem__(self, index):\n",
    "        'Generate one batch of data'\n",
    "        # Generate indexes of the batch\n",
    "        indexes = self.indexes[index*self.batch_size:(index+1)*self.batch_size]\n",
    "\n",
    "        # Find list of IDs\n",
    "        #list_IDs_temp = [self.list_IDs[k] for k in indexes]\n",
    "\n",
    "        # Generate data\n",
    "        X, y = self.__data_generation( indexes )\n",
    "\n",
    "        return X, y\n",
    "\n",
    "\n",
    "    def __data_generation(self, list_IDs):\n",
    "        'Generates data containing batch_size samples' # X : (n_samples, *dim, n_channels)\n",
    "        # Initialization\n",
    "        X = np.array( [self.train_x[i] for i in list_IDs] )\n",
    "        y = np.zeros( (self.batch_size, self.n_classes), dtype=int ) \n",
    "\n",
    "        # Generate data\n",
    "        for i in range(len(list_IDs)):\n",
    "            # Store class\n",
    "            \n",
    "            for idx in self.train_y[ list_IDs[i]  ]:\n",
    "                y[i,idx] = 1\n",
    "\n",
    "        return X, y"
   ]
  },
  {
   "cell_type": "code",
   "execution_count": null,
   "metadata": {},
   "outputs": [
    {
     "name": "stdout",
     "output_type": "stream",
     "text": [
      "Epoch 1/3\n",
      " 1912/15488 [==>...........................] - ETA: 38:52 - loss: 0.3021"
     ]
    }
   ],
   "source": [
    "from keras.models import Sequential\n",
    "\n",
    "# Generators\n",
    "num_samples = len(train_x)\n",
    "num_classes = len(books)\n",
    "num_dimension = 100\n",
    "\n",
    "\n",
    "training_generator = DataGenerator(num_samples, num_classes,train_x,train_y)\n",
    "\n",
    "# Design model\n",
    "model = keras.models.Sequential()\n",
    "embedding = keras.layers.Embedding( num_classes, num_dimension, input_length=1  ) \n",
    "#the input is one book of a user's like\n",
    "model.add(embedding)\n",
    "model.add(keras.layers.Flatten())  \n",
    "#since the input has only input_lengh being one, flatten it does not change everythingg and it's necessary\n",
    "model.add(keras.layers.Dense(num_classes,activation='sigmoid')) \n",
    "#our train_y is the other books this user likes. Hence its a vector of zeros and ones\n",
    "#one specify the books he like.\n",
    "\n",
    "model.compile(optimizer='adam', loss='binary_crossentropy')\n",
    "# Train model on dataset\n",
    "model.fit_generator(generator=training_generator, epochs=3)"
   ]
  }
 ],
 "metadata": {
  "kernelspec": {
   "display_name": "Python 3",
   "language": "python",
   "name": "python3"
  },
  "language_info": {
   "codemirror_mode": {
    "name": "ipython",
    "version": 3
   },
   "file_extension": ".py",
   "mimetype": "text/x-python",
   "name": "python",
   "nbconvert_exporter": "python",
   "pygments_lexer": "ipython3",
   "version": "3.7.6"
  }
 },
 "nbformat": 4,
 "nbformat_minor": 4
}
